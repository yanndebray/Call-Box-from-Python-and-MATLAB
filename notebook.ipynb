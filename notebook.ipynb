{
 "cells": [
  {
   "cell_type": "markdown",
   "id": "7fa13d11",
   "metadata": {},
   "source": [
    "# Box Python SDK "
   ]
  },
  {
   "cell_type": "markdown",
   "id": "cf762d84",
   "metadata": {},
   "source": [
    "## Auth (dev token)"
   ]
  },
  {
   "cell_type": "code",
   "execution_count": null,
   "id": "0d921357",
   "metadata": {},
   "outputs": [],
   "source": [
    "import os\n",
    "from box_sdk_gen import BoxClient, BoxDeveloperTokenAuth\n",
    "from dotenv import load_dotenv\n",
    "load_dotenv()\n",
    "auth = BoxDeveloperTokenAuth(token=os.environ['token'])\n",
    "client = BoxClient(auth=auth)"
   ]
  },
  {
   "cell_type": "markdown",
   "id": "b5754fe7",
   "metadata": {},
   "source": [
    "## List files"
   ]
  },
  {
   "cell_type": "code",
   "execution_count": null,
   "id": "7c7986e8",
   "metadata": {},
   "outputs": [
    {
     "name": "stdout",
     "output_type": "stream",
     "text": [
      "test.docx\n"
     ]
    }
   ],
   "source": [
    "# 1) List items in root folder (\"0\")\n",
    "for item in client.folders.get_folder_items('0').entries:\n",
    "    print(item.name)"
   ]
  },
  {
   "cell_type": "code",
   "execution_count": null,
   "id": "798c7640",
   "metadata": {},
   "outputs": [
    {
     "name": "stdout",
     "output_type": "stream",
     "text": [
      "FileBaseTypeField.FILE 1968288695235 test.docx\n"
     ]
    }
   ],
   "source": [
    "# 1b) List items entries\n",
    "items = client.folders.get_folder_items(folder_id=\"0\", limit=100)\n",
    "for entry in items.entries:\n",
    "    print(entry.type, entry.id, entry.name)"
   ]
  },
  {
   "cell_type": "markdown",
   "id": "c7986623",
   "metadata": {},
   "source": [
    "## Download files"
   ]
  },
  {
   "cell_type": "markdown",
   "id": "e84e2313",
   "metadata": {},
   "source": [
    "https://github.com/box/box-python-sdk-gen/blob/main/docs/downloads.md"
   ]
  },
  {
   "cell_type": "code",
   "execution_count": 39,
   "id": "0cab2bc3",
   "metadata": {},
   "outputs": [],
   "source": [
    "# 2) Download a file by id\n",
    "file_id = entry.id\n",
    "with open(entry.name, \"wb\") as out:\n",
    "    with client.downloads.download_file(file_id=file_id) as stream:\n",
    "        out.write(stream.read())"
   ]
  },
  {
   "cell_type": "markdown",
   "id": "d01304aa",
   "metadata": {},
   "source": [
    "## Upload files"
   ]
  },
  {
   "cell_type": "markdown",
   "id": "915a4e77",
   "metadata": {},
   "source": [
    "https://github.com/box/box-python-sdk-gen/blob/main/docs/uploads.md"
   ]
  },
  {
   "cell_type": "code",
   "execution_count": null,
   "id": "9addf9ce",
   "metadata": {},
   "outputs": [
    {
     "data": {
      "text/plain": [
       "<class 'box_sdk_gen.schemas.files.Files'> {'total_count': 1, 'entries': [{'id': '1968309813252', 'etag': '0', 'type': 'file', 'sequence_id': '0', 'name': 'measurements.csv', 'sha1': 'eb439d596375f84c1aeb167254a104717cb1ad1f', 'file_version': {'id': '2172128082852', 'type': 'file_version', 'sha1': 'eb439d596375f84c1aeb167254a104717cb1ad1f'}, 'description': '', 'size': 160, 'path_collection': {'total_count': 1, 'entries': [{'id': '0', 'type': 'folder', 'name': 'All Files'}]}, 'created_at': '2025-08-28T04:11:52-07:00', 'modified_at': '2025-08-28T04:11:52-07:00', 'content_created_at': '2025-08-28T04:11:52-07:00', 'content_modified_at': '2025-08-28T04:11:52-07:00', 'created_by': {'id': '14649499549', 'type': 'user', 'name': 'Yann Debray', 'login': 'yann.debray@gadz.org'}, 'modified_by': {'id': '14649499549', 'type': 'user', 'name': 'Yann Debray', 'login': 'yann.debray@gadz.org'}, 'owned_by': {'id': '14649499549', 'type': 'user', 'name': 'Yann Debray', 'login': 'yann.debray@gadz.org'}, 'parent': {'id': '0', 'type': 'folder', 'name': 'All Files'}, 'item_status': 'active'}]}"
      ]
     },
     "execution_count": 30,
     "metadata": {},
     "output_type": "execute_result"
    }
   ],
   "source": [
    "# 3) Upload a local file into a folder (here root \"0\")\n",
    "from box_sdk_gen import UploadFileAttributes, UploadFileAttributesParentField\n",
    "with open(\"measurements.csv\", \"rb\") as f:\n",
    "    uploaded = client.uploads.upload_file(UploadFileAttributes(\n",
    "        name=\"measurements.csv\", parent=UploadFileAttributesParentField(id=\"0\")\n",
    "    ), file=f)\n",
    "uploaded"
   ]
  },
  {
   "cell_type": "code",
   "execution_count": 40,
   "id": "a04b3673",
   "metadata": {},
   "outputs": [],
   "source": [
    "# 3b) Download a file uploaded by id\n",
    "file_id = uploaded.entries[0].id\n",
    "with open(\"measurements.csv\", \"wb\") as out:\n",
    "    with client.downloads.download_file(file_id=file_id) as stream:\n",
    "        out.write(stream.read())"
   ]
  },
  {
   "cell_type": "code",
   "execution_count": null,
   "id": "52e0ad9e",
   "metadata": {},
   "outputs": [
    {
     "name": "stdout",
     "output_type": "stream",
     "text": [
      "Created: 1968313110058 hello.txt\n"
     ]
    }
   ],
   "source": [
    "# 3c) Create/overwrite a small text file from memory\n",
    "from io import BytesIO\n",
    "buf = BytesIO(b\"hello from Python via Box!\")\n",
    "buf.seek(0) # Make sure we're at the start\n",
    "created = client.uploads.upload_file(\n",
    "\tattributes={\n",
    "\t\t\"name\": \"hello.txt\",\n",
    "\t\t\"parent\": {\"id\": \"0\"}\n",
    "\t},\n",
    "\tfile=buf\n",
    ")\n",
    "print(\"Created:\", created.entries[0].id, created.entries[0].name)"
   ]
  }
 ],
 "metadata": {
  "kernelspec": {
   "display_name": "env",
   "language": "python",
   "name": "python3"
  },
  "language_info": {
   "codemirror_mode": {
    "name": "ipython",
    "version": 3
   },
   "file_extension": ".py",
   "mimetype": "text/x-python",
   "name": "python",
   "nbconvert_exporter": "python",
   "pygments_lexer": "ipython3",
   "version": "3.10.10"
  }
 },
 "nbformat": 4,
 "nbformat_minor": 5
}
